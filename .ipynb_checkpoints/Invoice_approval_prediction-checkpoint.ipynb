{
 "cells": [
  {
   "cell_type": "code",
   "execution_count": 63,
   "id": "6cbe52ec-7154-42cd-96d7-1ce5c43128e1",
   "metadata": {
    "scrolled": true
   },
   "outputs": [
    {
     "data": {
      "text/html": [
       "<div>\n",
       "<style scoped>\n",
       "    .dataframe tbody tr th:only-of-type {\n",
       "        vertical-align: middle;\n",
       "    }\n",
       "\n",
       "    .dataframe tbody tr th {\n",
       "        vertical-align: top;\n",
       "    }\n",
       "\n",
       "    .dataframe thead th {\n",
       "        text-align: right;\n",
       "    }\n",
       "</style>\n",
       "<table border=\"1\" class=\"dataframe\">\n",
       "  <thead>\n",
       "    <tr style=\"text-align: right;\">\n",
       "      <th></th>\n",
       "      <th>Invoice_Type</th>\n",
       "      <th>Invoice_Date</th>\n",
       "      <th>Amount_in_INR</th>\n",
       "      <th>DTA_Supplier_Name</th>\n",
       "      <th>DTA_Supplier_State</th>\n",
       "      <th>Payment_date</th>\n",
       "    </tr>\n",
       "  </thead>\n",
       "  <tbody>\n",
       "    <tr>\n",
       "      <th>2407</th>\n",
       "      <td>1</td>\n",
       "      <td>2022-01-29</td>\n",
       "      <td>18000.0</td>\n",
       "      <td>31</td>\n",
       "      <td>15</td>\n",
       "      <td>2022-01-29</td>\n",
       "    </tr>\n",
       "    <tr>\n",
       "      <th>2850</th>\n",
       "      <td>1</td>\n",
       "      <td>2020-12-08</td>\n",
       "      <td>32084.0</td>\n",
       "      <td>101</td>\n",
       "      <td>3</td>\n",
       "      <td>2021-01-22</td>\n",
       "    </tr>\n",
       "    <tr>\n",
       "      <th>3085</th>\n",
       "      <td>1</td>\n",
       "      <td>2020-05-29</td>\n",
       "      <td>171760.0</td>\n",
       "      <td>65</td>\n",
       "      <td>3</td>\n",
       "      <td>2020-05-29</td>\n",
       "    </tr>\n",
       "    <tr>\n",
       "      <th>2995</th>\n",
       "      <td>1</td>\n",
       "      <td>2020-05-06</td>\n",
       "      <td>7500.0</td>\n",
       "      <td>191</td>\n",
       "      <td>3</td>\n",
       "      <td>2020-06-05</td>\n",
       "    </tr>\n",
       "    <tr>\n",
       "      <th>1202</th>\n",
       "      <td>0</td>\n",
       "      <td>2021-08-18</td>\n",
       "      <td>-75108.0</td>\n",
       "      <td>183</td>\n",
       "      <td>15</td>\n",
       "      <td>2021-08-18</td>\n",
       "    </tr>\n",
       "    <tr>\n",
       "      <th>...</th>\n",
       "      <td>...</td>\n",
       "      <td>...</td>\n",
       "      <td>...</td>\n",
       "      <td>...</td>\n",
       "      <td>...</td>\n",
       "      <td>...</td>\n",
       "    </tr>\n",
       "    <tr>\n",
       "      <th>3202</th>\n",
       "      <td>1</td>\n",
       "      <td>2019-10-16</td>\n",
       "      <td>1814.0</td>\n",
       "      <td>169</td>\n",
       "      <td>15</td>\n",
       "      <td>2019-11-15</td>\n",
       "    </tr>\n",
       "    <tr>\n",
       "      <th>1097</th>\n",
       "      <td>1</td>\n",
       "      <td>2020-10-01</td>\n",
       "      <td>241695.0</td>\n",
       "      <td>169</td>\n",
       "      <td>15</td>\n",
       "      <td>2020-10-01</td>\n",
       "    </tr>\n",
       "    <tr>\n",
       "      <th>1132</th>\n",
       "      <td>1</td>\n",
       "      <td>2021-08-18</td>\n",
       "      <td>71400.0</td>\n",
       "      <td>70</td>\n",
       "      <td>1</td>\n",
       "      <td>2021-10-02</td>\n",
       "    </tr>\n",
       "    <tr>\n",
       "      <th>1296</th>\n",
       "      <td>1</td>\n",
       "      <td>2021-12-20</td>\n",
       "      <td>576576.0</td>\n",
       "      <td>162</td>\n",
       "      <td>15</td>\n",
       "      <td>2022-02-03</td>\n",
       "    </tr>\n",
       "    <tr>\n",
       "      <th>862</th>\n",
       "      <td>1</td>\n",
       "      <td>2020-11-26</td>\n",
       "      <td>17132026.0</td>\n",
       "      <td>8</td>\n",
       "      <td>15</td>\n",
       "      <td>2020-12-11</td>\n",
       "    </tr>\n",
       "  </tbody>\n",
       "</table>\n",
       "<p>2488 rows × 6 columns</p>\n",
       "</div>"
      ],
      "text/plain": [
       "      Invoice_Type  Invoice_Date   Amount_in_INR   DTA_Supplier_Name   \\\n",
       "2407              1    2022-01-29         18000.0                  31   \n",
       "2850              1    2020-12-08         32084.0                 101   \n",
       "3085              1    2020-05-29        171760.0                  65   \n",
       "2995              1    2020-05-06          7500.0                 191   \n",
       "1202              0    2021-08-18        -75108.0                 183   \n",
       "...             ...           ...             ...                 ...   \n",
       "3202              1    2019-10-16          1814.0                 169   \n",
       "1097              1    2020-10-01        241695.0                 169   \n",
       "1132              1    2021-08-18         71400.0                  70   \n",
       "1296              1    2021-12-20        576576.0                 162   \n",
       "862               1    2020-11-26      17132026.0                   8   \n",
       "\n",
       "      DTA_Supplier_State  Payment_date  \n",
       "2407                   15   2022-01-29  \n",
       "2850                    3   2021-01-22  \n",
       "3085                    3   2020-05-29  \n",
       "2995                    3   2020-06-05  \n",
       "1202                   15   2021-08-18  \n",
       "...                   ...          ...  \n",
       "3202                   15   2019-11-15  \n",
       "1097                   15   2020-10-01  \n",
       "1132                    1   2021-10-02  \n",
       "1296                   15   2022-02-03  \n",
       "862                    15   2020-12-11  \n",
       "\n",
       "[2488 rows x 6 columns]"
      ]
     },
     "execution_count": 63,
     "metadata": {},
     "output_type": "execute_result"
    }
   ],
   "source": [
    "import pandas as pd\n",
    "import numpy as np\n",
    "from sklearn.preprocessing import LabelEncoder\n",
    "from sklearn.model_selection import train_test_split\n",
    "\n",
    "# Load the dataset\n",
    "file_path = r\"C:\\Users\\DELL\\Desktop\\Invoice_Merged_file - Copy.xlsx\" # Update this with the path to your file\n",
    "df = pd.read_excel(file_path, sheet_name='Sheet1')\n",
    "\n",
    "# Data Cleaning\n",
    "# Convert date columns to datetime format\n",
    "df['Invoice_Date '] = pd.to_datetime(df['Invoice_Date '])\n",
    "df['Payment_date'] = pd.to_datetime(df['Payment_date'])\n",
    "\n",
    "# # Handle missing values\n",
    "df.dropna(axis=0,inplace=True)\n",
    "\n",
    "\n",
    "# # Standardize text data\n",
    "df['DTA_Supplier_State '] = df['DTA_Supplier_State '].str.capitalize()\n",
    "df['DTA_Supplier_Name '] = df['DTA_Supplier_Name '].str.capitalize()\n",
    "\n",
    "# # Encode categorical variables\n",
    "label_encoders = {}\n",
    "for column in ['Invoice_Type ', 'DTA_Supplier_State ', 'DTA_Supplier_Name ', ]:\n",
    "     label_encoders[column] = LabelEncoder()\n",
    "     df[column] = label_encoders[column].fit_transform(df[column])\n",
    "\n",
    "# # Define feature and target variables for predictive analytics\n",
    "X = df.drop(columns=['Status',])\n",
    "y = df['Status'].apply(lambda x: 1 if x == 'DSPF Approved' else 0)  # Binary classification: Approved (1) or Not Approved (0)\n",
    "\n",
    "# # Split the data into training and testing sets\n",
    "X_train, X_test, y_train, y_test = train_test_split(X, y, test_size=0.2, random_state=42)\n",
    "X_train"
   ]
  },
  {
   "cell_type": "code",
   "execution_count": 64,
   "id": "daf3fd8b-b5d3-45ce-9a31-050b0f054d1b",
   "metadata": {
    "scrolled": true
   },
   "outputs": [
    {
     "data": {
      "text/plain": [
       "Invoice_Type           0\n",
       "Invoice_Date           0\n",
       "Amount_in_INR          0\n",
       "Status                 0\n",
       "DTA_Supplier_Name      0\n",
       "DTA_Supplier_State     0\n",
       "Payment_date           0\n",
       "dtype: int64"
      ]
     },
     "execution_count": 64,
     "metadata": {},
     "output_type": "execute_result"
    }
   ],
   "source": [
    "df.isnull().sum()"
   ]
  },
  {
   "cell_type": "code",
   "execution_count": 65,
   "id": "34bd688b-1412-4dc3-a46f-d4232c6acad7",
   "metadata": {},
   "outputs": [
    {
     "data": {
      "text/html": [
       "<div>\n",
       "<style scoped>\n",
       "    .dataframe tbody tr th:only-of-type {\n",
       "        vertical-align: middle;\n",
       "    }\n",
       "\n",
       "    .dataframe tbody tr th {\n",
       "        vertical-align: top;\n",
       "    }\n",
       "\n",
       "    .dataframe thead th {\n",
       "        text-align: right;\n",
       "    }\n",
       "</style>\n",
       "<table border=\"1\" class=\"dataframe\">\n",
       "  <thead>\n",
       "    <tr style=\"text-align: right;\">\n",
       "      <th></th>\n",
       "      <th>Invoice_Type</th>\n",
       "      <th>Invoice_Date</th>\n",
       "      <th>Amount_in_INR</th>\n",
       "      <th>DTA_Supplier_Name</th>\n",
       "      <th>DTA_Supplier_State</th>\n",
       "      <th>Payment_date</th>\n",
       "    </tr>\n",
       "  </thead>\n",
       "  <tbody>\n",
       "    <tr>\n",
       "      <th>0</th>\n",
       "      <td>1</td>\n",
       "      <td>2019-11-16</td>\n",
       "      <td>660.0</td>\n",
       "      <td>145</td>\n",
       "      <td>15</td>\n",
       "      <td>2019-11-28</td>\n",
       "    </tr>\n",
       "    <tr>\n",
       "      <th>1</th>\n",
       "      <td>1</td>\n",
       "      <td>2019-11-04</td>\n",
       "      <td>6000.0</td>\n",
       "      <td>156</td>\n",
       "      <td>15</td>\n",
       "      <td>2019-11-28</td>\n",
       "    </tr>\n",
       "    <tr>\n",
       "      <th>2</th>\n",
       "      <td>1</td>\n",
       "      <td>2019-11-04</td>\n",
       "      <td>1500.0</td>\n",
       "      <td>156</td>\n",
       "      <td>15</td>\n",
       "      <td>2019-11-28</td>\n",
       "    </tr>\n",
       "    <tr>\n",
       "      <th>3</th>\n",
       "      <td>1</td>\n",
       "      <td>2019-11-04</td>\n",
       "      <td>1500.0</td>\n",
       "      <td>156</td>\n",
       "      <td>15</td>\n",
       "      <td>2019-11-28</td>\n",
       "    </tr>\n",
       "    <tr>\n",
       "      <th>4</th>\n",
       "      <td>1</td>\n",
       "      <td>2019-11-01</td>\n",
       "      <td>2531288.0</td>\n",
       "      <td>169</td>\n",
       "      <td>15</td>\n",
       "      <td>2019-11-21</td>\n",
       "    </tr>\n",
       "    <tr>\n",
       "      <th>...</th>\n",
       "      <td>...</td>\n",
       "      <td>...</td>\n",
       "      <td>...</td>\n",
       "      <td>...</td>\n",
       "      <td>...</td>\n",
       "      <td>...</td>\n",
       "    </tr>\n",
       "    <tr>\n",
       "      <th>3216</th>\n",
       "      <td>1</td>\n",
       "      <td>2019-10-23</td>\n",
       "      <td>186841.0</td>\n",
       "      <td>181</td>\n",
       "      <td>15</td>\n",
       "      <td>2019-11-21</td>\n",
       "    </tr>\n",
       "    <tr>\n",
       "      <th>3217</th>\n",
       "      <td>1</td>\n",
       "      <td>2019-10-01</td>\n",
       "      <td>36962.0</td>\n",
       "      <td>187</td>\n",
       "      <td>15</td>\n",
       "      <td>2019-10-17</td>\n",
       "    </tr>\n",
       "    <tr>\n",
       "      <th>3218</th>\n",
       "      <td>1</td>\n",
       "      <td>2019-10-05</td>\n",
       "      <td>1717.0</td>\n",
       "      <td>178</td>\n",
       "      <td>15</td>\n",
       "      <td>2019-11-15</td>\n",
       "    </tr>\n",
       "    <tr>\n",
       "      <th>3219</th>\n",
       "      <td>1</td>\n",
       "      <td>2019-10-14</td>\n",
       "      <td>2060.0</td>\n",
       "      <td>178</td>\n",
       "      <td>15</td>\n",
       "      <td>2019-11-15</td>\n",
       "    </tr>\n",
       "    <tr>\n",
       "      <th>3220</th>\n",
       "      <td>1</td>\n",
       "      <td>2019-10-14</td>\n",
       "      <td>1050.0</td>\n",
       "      <td>178</td>\n",
       "      <td>15</td>\n",
       "      <td>2019-11-15</td>\n",
       "    </tr>\n",
       "  </tbody>\n",
       "</table>\n",
       "<p>3111 rows × 6 columns</p>\n",
       "</div>"
      ],
      "text/plain": [
       "      Invoice_Type  Invoice_Date   Amount_in_INR   DTA_Supplier_Name   \\\n",
       "0                 1    2019-11-16           660.0                 145   \n",
       "1                 1    2019-11-04          6000.0                 156   \n",
       "2                 1    2019-11-04          1500.0                 156   \n",
       "3                 1    2019-11-04          1500.0                 156   \n",
       "4                 1    2019-11-01       2531288.0                 169   \n",
       "...             ...           ...             ...                 ...   \n",
       "3216              1    2019-10-23        186841.0                 181   \n",
       "3217              1    2019-10-01         36962.0                 187   \n",
       "3218              1    2019-10-05          1717.0                 178   \n",
       "3219              1    2019-10-14          2060.0                 178   \n",
       "3220              1    2019-10-14          1050.0                 178   \n",
       "\n",
       "      DTA_Supplier_State  Payment_date  \n",
       "0                      15   2019-11-28  \n",
       "1                      15   2019-11-28  \n",
       "2                      15   2019-11-28  \n",
       "3                      15   2019-11-28  \n",
       "4                      15   2019-11-21  \n",
       "...                   ...          ...  \n",
       "3216                   15   2019-11-21  \n",
       "3217                   15   2019-10-17  \n",
       "3218                   15   2019-11-15  \n",
       "3219                   15   2019-11-15  \n",
       "3220                   15   2019-11-15  \n",
       "\n",
       "[3111 rows x 6 columns]"
      ]
     },
     "execution_count": 65,
     "metadata": {},
     "output_type": "execute_result"
    }
   ],
   "source": [
    "X"
   ]
  },
  {
   "cell_type": "code",
   "execution_count": 66,
   "id": "cb2f32a5-4745-4d55-8d24-634487d11ba4",
   "metadata": {},
   "outputs": [
    {
     "data": {
      "text/plain": [
       "0       0\n",
       "1       0\n",
       "2       0\n",
       "3       0\n",
       "4       1\n",
       "       ..\n",
       "3216    1\n",
       "3217    1\n",
       "3218    1\n",
       "3219    1\n",
       "3220    1\n",
       "Name: Status, Length: 3111, dtype: int64"
      ]
     },
     "execution_count": 66,
     "metadata": {},
     "output_type": "execute_result"
    }
   ],
   "source": [
    "y"
   ]
  },
  {
   "cell_type": "code",
   "execution_count": 67,
   "id": "e42fe3ef-d94d-45f6-b4af-374eee3b36be",
   "metadata": {},
   "outputs": [
    {
     "data": {
      "text/plain": [
       "Status\n",
       "DSPF Approved                    2873\n",
       "Material                           52\n",
       "No Benefit                         50\n",
       "Duplicate entry                    45\n",
       "Invoice not received for DSPF      23\n",
       "material                           22\n",
       "Pending for working                19\n",
       "Under query                        16\n",
       "No Benefit-3rd party invoices       4\n",
       "Material-Duty paid                  3\n",
       "No benefit                          2\n",
       "Banglore Unit                       2\n",
       "Name: count, dtype: int64"
      ]
     },
     "execution_count": 67,
     "metadata": {},
     "output_type": "execute_result"
    }
   ],
   "source": [
    "df['Status'].value_counts()"
   ]
  },
  {
   "cell_type": "code",
   "execution_count": 68,
   "id": "34c975be-8a0c-485d-9016-3c500385fbaf",
   "metadata": {},
   "outputs": [
    {
     "data": {
      "text/plain": [
       "2407    1\n",
       "2850    1\n",
       "3085    1\n",
       "2995    1\n",
       "1202    1\n",
       "       ..\n",
       "3202    0\n",
       "1097    1\n",
       "1132    1\n",
       "1296    1\n",
       "862     1\n",
       "Name: Status, Length: 2488, dtype: int64"
      ]
     },
     "execution_count": 68,
     "metadata": {},
     "output_type": "execute_result"
    }
   ],
   "source": [
    "y_train"
   ]
  },
  {
   "cell_type": "code",
   "execution_count": 69,
   "id": "8744ad30-41a4-4ef0-a7ce-bd8901d4662f",
   "metadata": {},
   "outputs": [
    {
     "data": {
      "text/plain": [
       "Invoice_Type                    int32\n",
       "Invoice_Date           datetime64[ns]\n",
       "Amount_in_INR                 float64\n",
       "DTA_Supplier_Name               int32\n",
       "DTA_Supplier_State              int32\n",
       "Payment_date           datetime64[ns]\n",
       "dtype: object"
      ]
     },
     "execution_count": 69,
     "metadata": {},
     "output_type": "execute_result"
    }
   ],
   "source": [
    "X.dtypes"
   ]
  },
  {
   "cell_type": "code",
   "execution_count": 70,
   "id": "2eecfcc5-3610-459c-914a-3614616fe1d4",
   "metadata": {},
   "outputs": [],
   "source": [
    "X_train.drop(['Invoice_Date ','Payment_date'],inplace=True,axis=1)\n",
    "X_test.drop(['Invoice_Date ','Payment_date'],inplace=True,axis=1)             "
   ]
  },
  {
   "cell_type": "code",
   "execution_count": 71,
   "id": "88a73972-366e-4909-b200-9b56dd32d4a0",
   "metadata": {},
   "outputs": [
    {
     "name": "stdout",
     "output_type": "stream",
     "text": [
      "Accuracy: 0.9341894060995185\n",
      "Classification Report:\n",
      "              precision    recall  f1-score   support\n",
      "\n",
      "           0       0.57      0.49      0.53        47\n",
      "           1       0.96      0.97      0.96       576\n",
      "\n",
      "    accuracy                           0.93       623\n",
      "   macro avg       0.77      0.73      0.75       623\n",
      "weighted avg       0.93      0.93      0.93       623\n",
      "\n"
     ]
    }
   ],
   "source": [
    "from sklearn.ensemble import RandomForestClassifier\n",
    "from sklearn.metrics import accuracy_score, classification_report\n",
    "\n",
    "# Train a RandomForest classifier\n",
    "rf_classifier = RandomForestClassifier(n_estimators=100, random_state=42)\n",
    "rf_classifier.fit(X_train, y_train)\n",
    "\n",
    "# Predict on the test set\n",
    "y_pred = rf_classifier.predict(X_test)\n",
    "\n",
    "# Evaluate the model\n",
    "accuracy = accuracy_score(y_test, y_pred)\n",
    "report = classification_report(y_test, y_pred)\n",
    "\n",
    "print(f\"Accuracy: {accuracy}\")\n",
    "print(\"Classification Report:\")\n",
    "print(report)\n"
   ]
  },
  {
   "cell_type": "code",
   "execution_count": 78,
   "id": "8387c5e7-7bbc-4d7c-825d-5f8dcb4a6ce5",
   "metadata": {},
   "outputs": [
    {
     "data": {
      "text/html": [
       "<div>\n",
       "<style scoped>\n",
       "    .dataframe tbody tr th:only-of-type {\n",
       "        vertical-align: middle;\n",
       "    }\n",
       "\n",
       "    .dataframe tbody tr th {\n",
       "        vertical-align: top;\n",
       "    }\n",
       "\n",
       "    .dataframe thead th {\n",
       "        text-align: right;\n",
       "    }\n",
       "</style>\n",
       "<table border=\"1\" class=\"dataframe\">\n",
       "  <thead>\n",
       "    <tr style=\"text-align: right;\">\n",
       "      <th></th>\n",
       "      <th>Invoice_Type</th>\n",
       "      <th>Amount_in_INR</th>\n",
       "      <th>DTA_Supplier_Name</th>\n",
       "      <th>DTA_Supplier_State</th>\n",
       "    </tr>\n",
       "  </thead>\n",
       "  <tbody>\n",
       "    <tr>\n",
       "      <th>695</th>\n",
       "      <td>1</td>\n",
       "      <td>80870.0</td>\n",
       "      <td>172</td>\n",
       "      <td>15</td>\n",
       "    </tr>\n",
       "  </tbody>\n",
       "</table>\n",
       "</div>"
      ],
      "text/plain": [
       "     Invoice_Type   Amount_in_INR   DTA_Supplier_Name   DTA_Supplier_State \n",
       "695              1         80870.0                 172                   15"
      ]
     },
     "execution_count": 78,
     "metadata": {},
     "output_type": "execute_result"
    }
   ],
   "source": [
    "X_test.iloc[:1,:]"
   ]
  },
  {
   "cell_type": "code",
   "execution_count": 80,
   "id": "2cef4aaf-36bd-413f-9b72-c0f7a6bf90a0",
   "metadata": {},
   "outputs": [
    {
     "data": {
      "text/plain": [
       "695    0\n",
       "Name: Status, dtype: int64"
      ]
     },
     "execution_count": 80,
     "metadata": {},
     "output_type": "execute_result"
    }
   ],
   "source": [
    "y_test.iloc[:1]"
   ]
  },
  {
   "cell_type": "code",
   "execution_count": 82,
   "id": "f34f4363-ba57-42e4-b25a-3e8c76fb893c",
   "metadata": {},
   "outputs": [
    {
     "data": {
      "text/plain": [
       "array([0], dtype=int64)"
      ]
     },
     "execution_count": 82,
     "metadata": {},
     "output_type": "execute_result"
    }
   ],
   "source": [
    "rf_classifier.predict(X_test.iloc[:1,:])"
   ]
  },
  {
   "cell_type": "code",
   "execution_count": 86,
   "id": "212ee7f3-d555-4d18-bdd5-9f35c73ea14a",
   "metadata": {},
   "outputs": [
    {
     "data": {
      "text/html": [
       "<div>\n",
       "<style scoped>\n",
       "    .dataframe tbody tr th:only-of-type {\n",
       "        vertical-align: middle;\n",
       "    }\n",
       "\n",
       "    .dataframe tbody tr th {\n",
       "        vertical-align: top;\n",
       "    }\n",
       "\n",
       "    .dataframe thead th {\n",
       "        text-align: right;\n",
       "    }\n",
       "</style>\n",
       "<table border=\"1\" class=\"dataframe\">\n",
       "  <thead>\n",
       "    <tr style=\"text-align: right;\">\n",
       "      <th></th>\n",
       "      <th>Invoice_Type</th>\n",
       "      <th>Amount_in_INR</th>\n",
       "      <th>DTA_Supplier_Name</th>\n",
       "      <th>DTA_Supplier_State</th>\n",
       "    </tr>\n",
       "  </thead>\n",
       "  <tbody>\n",
       "    <tr>\n",
       "      <th>219</th>\n",
       "      <td>1</td>\n",
       "      <td>3004568.0</td>\n",
       "      <td>96</td>\n",
       "      <td>15</td>\n",
       "    </tr>\n",
       "  </tbody>\n",
       "</table>\n",
       "</div>"
      ],
      "text/plain": [
       "     Invoice_Type   Amount_in_INR   DTA_Supplier_Name   DTA_Supplier_State \n",
       "219              1       3004568.0                  96                   15"
      ]
     },
     "execution_count": 86,
     "metadata": {},
     "output_type": "execute_result"
    }
   ],
   "source": [
    "X_test.iloc[4:5,:]"
   ]
  },
  {
   "cell_type": "code",
   "execution_count": 85,
   "id": "2d46649f-55dd-4971-a45f-70828f8146e9",
   "metadata": {},
   "outputs": [
    {
     "data": {
      "text/plain": [
       "219    1\n",
       "Name: Status, dtype: int64"
      ]
     },
     "execution_count": 85,
     "metadata": {},
     "output_type": "execute_result"
    }
   ],
   "source": [
    "y_test.iloc[4:5]"
   ]
  },
  {
   "cell_type": "code",
   "execution_count": 87,
   "id": "159f7b82-5a84-41b0-899b-df696049ff40",
   "metadata": {},
   "outputs": [
    {
     "data": {
      "text/plain": [
       "array([1], dtype=int64)"
      ]
     },
     "execution_count": 87,
     "metadata": {},
     "output_type": "execute_result"
    }
   ],
   "source": [
    "rf_classifier.predict(X_test.iloc[4:5,:])"
   ]
  },
  {
   "cell_type": "code",
   "execution_count": null,
   "id": "5247a3ad-a36c-4a5b-aa96-cc659a9a9325",
   "metadata": {},
   "outputs": [],
   "source": []
  }
 ],
 "metadata": {
  "kernelspec": {
   "display_name": "Python 3 (ipykernel)",
   "language": "python",
   "name": "python3"
  },
  "language_info": {
   "codemirror_mode": {
    "name": "ipython",
    "version": 3
   },
   "file_extension": ".py",
   "mimetype": "text/x-python",
   "name": "python",
   "nbconvert_exporter": "python",
   "pygments_lexer": "ipython3",
   "version": "3.11.7"
  }
 },
 "nbformat": 4,
 "nbformat_minor": 5
}
